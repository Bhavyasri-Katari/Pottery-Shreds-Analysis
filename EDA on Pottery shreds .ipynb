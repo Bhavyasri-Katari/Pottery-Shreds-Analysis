{
 "cells": [
  {
   "cell_type": "code",
   "execution_count": 1,
   "id": "f0cdaeb2",
   "metadata": {},
   "outputs": [],
   "source": [
    "import numpy as np\n",
    "import pandas as pd\n",
    "import matplotlib.pyplot as plt\n",
    "%matplotlib inline\n",
    "import seaborn as sns"
   ]
  },
  {
   "cell_type": "code",
   "execution_count": 2,
   "id": "c5005b68",
   "metadata": {},
   "outputs": [],
   "source": [
    "df = pd.read_csv(\"Database.csv\")"
   ]
  },
  {
   "cell_type": "code",
   "execution_count": 3,
   "id": "14c5a413",
   "metadata": {},
   "outputs": [
    {
     "data": {
      "text/plain": [
       "(1959, 26)"
      ]
     },
     "execution_count": 3,
     "metadata": {},
     "output_type": "execute_result"
    }
   ],
   "source": [
    "df.shape"
   ]
  },
  {
   "cell_type": "code",
   "execution_count": 4,
   "id": "d3c5bd05",
   "metadata": {},
   "outputs": [
    {
     "data": {
      "text/html": [
       "<div>\n",
       "<style scoped>\n",
       "    .dataframe tbody tr th:only-of-type {\n",
       "        vertical-align: middle;\n",
       "    }\n",
       "\n",
       "    .dataframe tbody tr th {\n",
       "        vertical-align: top;\n",
       "    }\n",
       "\n",
       "    .dataframe thead th {\n",
       "        text-align: right;\n",
       "    }\n",
       "</style>\n",
       "<table border=\"1\" class=\"dataframe\">\n",
       "  <thead>\n",
       "    <tr style=\"text-align: right;\">\n",
       "      <th></th>\n",
       "      <th>No. Drawing</th>\n",
       "      <th>Trench No.</th>\n",
       "      <th>Layer</th>\n",
       "      <th>Piece</th>\n",
       "      <th>Clay Paste</th>\n",
       "      <th>Colour of Wash/Slip</th>\n",
       "      <th>Wash/Slip</th>\n",
       "      <th>Position of Wash/Slip</th>\n",
       "      <th>Chamotte</th>\n",
       "      <th>Inside Quality</th>\n",
       "      <th>...</th>\n",
       "      <th>Outside Painting</th>\n",
       "      <th>Painting Pattern.1</th>\n",
       "      <th>Colour of Painting.1</th>\n",
       "      <th>Inside Engraving</th>\n",
       "      <th>Outside Engraving</th>\n",
       "      <th>Engraving Pattern</th>\n",
       "      <th>Drawing/Shape</th>\n",
       "      <th>Comparable Site</th>\n",
       "      <th>Phase/Period</th>\n",
       "      <th>Reference</th>\n",
       "    </tr>\n",
       "  </thead>\n",
       "  <tbody>\n",
       "    <tr>\n",
       "      <th>0</th>\n",
       "      <td>1a</td>\n",
       "      <td>S.T.1</td>\n",
       "      <td>S.U 1</td>\n",
       "      <td>Rim</td>\n",
       "      <td>Buff</td>\n",
       "      <td>Buff</td>\n",
       "      <td>Wash</td>\n",
       "      <td>Inside/Outside</td>\n",
       "      <td>Medium-sized</td>\n",
       "      <td>Medium</td>\n",
       "      <td>...</td>\n",
       "      <td>NaN</td>\n",
       "      <td>NaN</td>\n",
       "      <td>NaN</td>\n",
       "      <td>NaN</td>\n",
       "      <td>NaN</td>\n",
       "      <td>NaN</td>\n",
       "      <td>Shape</td>\n",
       "      <td>Shahr-i Sokhta</td>\n",
       "      <td>Phase: 6</td>\n",
       "      <td>Salvatori, Vidale, 1997, P: 102, Fig: 116, NO: 1</td>\n",
       "    </tr>\n",
       "    <tr>\n",
       "      <th>1</th>\n",
       "      <td>1b</td>\n",
       "      <td>S.T.1</td>\n",
       "      <td>S.U 1</td>\n",
       "      <td>Rim</td>\n",
       "      <td>Buff</td>\n",
       "      <td>Buff</td>\n",
       "      <td>Wash</td>\n",
       "      <td>Inside/Outside</td>\n",
       "      <td>Medium-sized</td>\n",
       "      <td>Medium</td>\n",
       "      <td>...</td>\n",
       "      <td>NaN</td>\n",
       "      <td>NaN</td>\n",
       "      <td>NaN</td>\n",
       "      <td>NaN</td>\n",
       "      <td>NaN</td>\n",
       "      <td>NaN</td>\n",
       "      <td>Shape</td>\n",
       "      <td>Mundigak (AF)</td>\n",
       "      <td>PeriodIV3</td>\n",
       "      <td>Casal, 1961, Fig: 94, NO:427</td>\n",
       "    </tr>\n",
       "    <tr>\n",
       "      <th>2</th>\n",
       "      <td>1c</td>\n",
       "      <td>S.T.1</td>\n",
       "      <td>S.U 1</td>\n",
       "      <td>Rim</td>\n",
       "      <td>Buff</td>\n",
       "      <td>Buff</td>\n",
       "      <td>Wash</td>\n",
       "      <td>Inside/Outside</td>\n",
       "      <td>Medium-sized</td>\n",
       "      <td>Medium</td>\n",
       "      <td>...</td>\n",
       "      <td>NaN</td>\n",
       "      <td>NaN</td>\n",
       "      <td>NaN</td>\n",
       "      <td>NaN</td>\n",
       "      <td>NaN</td>\n",
       "      <td>NaN</td>\n",
       "      <td>Shape</td>\n",
       "      <td>Tepe Yahya</td>\n",
       "      <td>Period IVB3</td>\n",
       "      <td>Potts, 2001, P: 151, Fig: 5.9, NO: C</td>\n",
       "    </tr>\n",
       "    <tr>\n",
       "      <th>3</th>\n",
       "      <td>1d</td>\n",
       "      <td>S.T.1</td>\n",
       "      <td>S.U 1</td>\n",
       "      <td>Rim</td>\n",
       "      <td>Buff</td>\n",
       "      <td>Buff</td>\n",
       "      <td>Wash</td>\n",
       "      <td>Inside/Outside</td>\n",
       "      <td>Medium-sized</td>\n",
       "      <td>Medium</td>\n",
       "      <td>...</td>\n",
       "      <td>NaN</td>\n",
       "      <td>NaN</td>\n",
       "      <td>NaN</td>\n",
       "      <td>NaN</td>\n",
       "      <td>NaN</td>\n",
       "      <td>NaN</td>\n",
       "      <td>Shape</td>\n",
       "      <td>Miri Qalat (P)</td>\n",
       "      <td>Period IIIC</td>\n",
       "      <td>Didier, 2007, P: 25, Fig: 9, NO: 3</td>\n",
       "    </tr>\n",
       "    <tr>\n",
       "      <th>4</th>\n",
       "      <td>2a</td>\n",
       "      <td>S.T.1</td>\n",
       "      <td>S.U 1</td>\n",
       "      <td>Rim</td>\n",
       "      <td>Buff</td>\n",
       "      <td>Buff</td>\n",
       "      <td>Wash</td>\n",
       "      <td>Inside/Outside</td>\n",
       "      <td>Medium-sized</td>\n",
       "      <td>Medium</td>\n",
       "      <td>...</td>\n",
       "      <td>NaN</td>\n",
       "      <td>NaN</td>\n",
       "      <td>NaN</td>\n",
       "      <td>NaN</td>\n",
       "      <td>NaN</td>\n",
       "      <td>NaN</td>\n",
       "      <td>Shape</td>\n",
       "      <td>Bampur</td>\n",
       "      <td>Bampur IV2</td>\n",
       "      <td>De cardi, 1970, P: 317, Fig: 43, NO: 469</td>\n",
       "    </tr>\n",
       "  </tbody>\n",
       "</table>\n",
       "<p>5 rows × 26 columns</p>\n",
       "</div>"
      ],
      "text/plain": [
       "  No. Drawing  Trench No.  Layer Piece Clay Paste Colour of Wash/Slip  \\\n",
       "0           1a      S.T.1  S.U 1   Rim       Buff                Buff   \n",
       "1           1b      S.T.1  S.U 1   Rim       Buff                Buff   \n",
       "2           1c      S.T.1  S.U 1   Rim       Buff                Buff   \n",
       "3           1d      S.T.1  S.U 1   Rim       Buff                Buff   \n",
       "4           2a      S.T.1  S.U 1   Rim       Buff                Buff   \n",
       "\n",
       "  Wash/Slip Position of Wash/Slip      Chamotte Inside Quality  ...  \\\n",
       "0      Wash        Inside/Outside  Medium-sized         Medium  ...   \n",
       "1      Wash        Inside/Outside  Medium-sized         Medium  ...   \n",
       "2      Wash        Inside/Outside  Medium-sized         Medium  ...   \n",
       "3      Wash        Inside/Outside  Medium-sized         Medium  ...   \n",
       "4      Wash        Inside/Outside  Medium-sized         Medium  ...   \n",
       "\n",
       "  Outside Painting Painting Pattern.1 Colour of Painting.1 Inside Engraving  \\\n",
       "0              NaN                NaN                  NaN              NaN   \n",
       "1              NaN                NaN                  NaN              NaN   \n",
       "2              NaN                NaN                  NaN              NaN   \n",
       "3              NaN                NaN                  NaN              NaN   \n",
       "4              NaN                NaN                  NaN              NaN   \n",
       "\n",
       "  Outside Engraving Engraving Pattern Drawing/Shape Comparable Site  \\\n",
       "0               NaN               NaN         Shape  Shahr-i Sokhta   \n",
       "1               NaN               NaN         Shape   Mundigak (AF)   \n",
       "2               NaN               NaN         Shape      Tepe Yahya   \n",
       "3               NaN               NaN         Shape  Miri Qalat (P)   \n",
       "4               NaN               NaN         Shape          Bampur   \n",
       "\n",
       "   Phase/Period                                         Reference   \n",
       "0      Phase: 6  Salvatori, Vidale, 1997, P: 102, Fig: 116, NO: 1   \n",
       "1    PeriodIV3                       Casal, 1961, Fig: 94, NO:427   \n",
       "2  Period IVB3               Potts, 2001, P: 151, Fig: 5.9, NO: C   \n",
       "3  Period IIIC                 Didier, 2007, P: 25, Fig: 9, NO: 3   \n",
       "4   Bampur IV2           De cardi, 1970, P: 317, Fig: 43, NO: 469   \n",
       "\n",
       "[5 rows x 26 columns]"
      ]
     },
     "execution_count": 4,
     "metadata": {},
     "output_type": "execute_result"
    }
   ],
   "source": [
    "df.head()"
   ]
  },
  {
   "cell_type": "code",
   "execution_count": 5,
   "id": "b9c0dffd",
   "metadata": {},
   "outputs": [
    {
     "name": "stdout",
     "output_type": "stream",
     "text": [
      "<class 'pandas.core.frame.DataFrame'>\n",
      "RangeIndex: 1959 entries, 0 to 1958\n",
      "Data columns (total 26 columns):\n",
      " #   Column                 Non-Null Count  Dtype \n",
      "---  ------                 --------------  ----- \n",
      " 0   No. Drawing            1959 non-null   object\n",
      " 1   Trench No.             1959 non-null   object\n",
      " 2   Layer                  1959 non-null   object\n",
      " 3   Piece                  1959 non-null   object\n",
      " 4   Clay Paste             1959 non-null   object\n",
      " 5   Colour of Wash/Slip    1930 non-null   object\n",
      " 6   Wash/Slip              1931 non-null   object\n",
      " 7   Position of Wash/Slip  1930 non-null   object\n",
      " 8   Chamotte               1959 non-null   object\n",
      " 9   Inside Quality         1959 non-null   object\n",
      " 10  Outside Quality        1959 non-null   object\n",
      " 11  Firing Rate            1959 non-null   object\n",
      " 12  Rate of Saftly         1959 non-null   object\n",
      " 13  Inside Painting        266 non-null    object\n",
      " 14  Painting Pattern       266 non-null    object\n",
      " 15  Colour of Painting     266 non-null    object\n",
      " 16  Outside Painting       637 non-null    object\n",
      " 17  Painting Pattern.1     637 non-null    object\n",
      " 18  Colour of Painting.1   637 non-null    object\n",
      " 19  Inside Engraving       7 non-null      object\n",
      " 20  Outside Engraving      58 non-null     object\n",
      " 21  Engraving Pattern      64 non-null     object\n",
      " 22  Drawing/Shape          1394 non-null   object\n",
      " 23  Comparable Site        1393 non-null   object\n",
      " 24  Phase/Period           1393 non-null   object\n",
      " 25  Reference              1394 non-null   object\n",
      "dtypes: object(26)\n",
      "memory usage: 398.0+ KB\n"
     ]
    }
   ],
   "source": [
    "df.info()"
   ]
  },
  {
   "cell_type": "code",
   "execution_count": 6,
   "id": "af99802f",
   "metadata": {},
   "outputs": [],
   "source": [
    "df.columns = df.columns.str.strip()"
   ]
  },
  {
   "cell_type": "code",
   "execution_count": 7,
   "id": "938a8e30",
   "metadata": {},
   "outputs": [],
   "source": [
    "df.drop(['Reference'],axis = 1,inplace = True)"
   ]
  },
  {
   "cell_type": "code",
   "execution_count": 8,
   "id": "116e6108",
   "metadata": {},
   "outputs": [
    {
     "data": {
      "text/plain": [
       "No. Drawing                 0\n",
       "Trench No.                  0\n",
       "Layer                       0\n",
       "Piece                       0\n",
       "Clay Paste                  0\n",
       "Colour of Wash/Slip        29\n",
       "Wash/Slip                  28\n",
       "Position of Wash/Slip      29\n",
       "Chamotte                    0\n",
       "Inside Quality              0\n",
       "Outside Quality             0\n",
       "Firing Rate                 0\n",
       "Rate of Saftly              0\n",
       "Inside Painting          1693\n",
       "Painting Pattern         1693\n",
       "Colour of Painting       1693\n",
       "Outside Painting         1322\n",
       "Painting Pattern.1       1322\n",
       "Colour of Painting.1     1322\n",
       "Inside Engraving         1952\n",
       "Outside Engraving        1901\n",
       "Engraving Pattern        1895\n",
       "Drawing/Shape             565\n",
       "Comparable Site           566\n",
       "Phase/Period              566\n",
       "dtype: int64"
      ]
     },
     "execution_count": 8,
     "metadata": {},
     "output_type": "execute_result"
    }
   ],
   "source": [
    "pd.isnull(df).sum()"
   ]
  },
  {
   "cell_type": "code",
   "execution_count": 9,
   "id": "23243b71",
   "metadata": {},
   "outputs": [],
   "source": [
    "df.fillna('NA', inplace = True)"
   ]
  },
  {
   "cell_type": "code",
   "execution_count": 10,
   "id": "dacbcfab",
   "metadata": {},
   "outputs": [
    {
     "data": {
      "text/plain": [
       "No. Drawing              0\n",
       "Trench No.               0\n",
       "Layer                    0\n",
       "Piece                    0\n",
       "Clay Paste               0\n",
       "Colour of Wash/Slip      0\n",
       "Wash/Slip                0\n",
       "Position of Wash/Slip    0\n",
       "Chamotte                 0\n",
       "Inside Quality           0\n",
       "Outside Quality          0\n",
       "Firing Rate              0\n",
       "Rate of Saftly           0\n",
       "Inside Painting          0\n",
       "Painting Pattern         0\n",
       "Colour of Painting       0\n",
       "Outside Painting         0\n",
       "Painting Pattern.1       0\n",
       "Colour of Painting.1     0\n",
       "Inside Engraving         0\n",
       "Outside Engraving        0\n",
       "Engraving Pattern        0\n",
       "Drawing/Shape            0\n",
       "Comparable Site          0\n",
       "Phase/Period             0\n",
       "dtype: int64"
      ]
     },
     "execution_count": 10,
     "metadata": {},
     "output_type": "execute_result"
    }
   ],
   "source": [
    "pd.isnull(df).sum()"
   ]
  },
  {
   "cell_type": "code",
   "execution_count": 11,
   "id": "a2960173",
   "metadata": {},
   "outputs": [
    {
     "name": "stdout",
     "output_type": "stream",
     "text": [
      "Column: No. Drawing\n",
      "['1a' '1b' '1c' '1d' '2a' '2b' '3' '4' '5' '6' '7' '8' '9' '10' '11' '12'\n",
      " '13' '14' '15' '16' '17' '18' '19' '20' '21a' '21b' '21c' '22' '23' '24'\n",
      " '25' '26a' '26b' '27' '28' '29' '30' '31' '32' '33' '34' '35' '36' '37'\n",
      " '38' '39' '40' '41' '42' '43' '44' '45' '46' '47' '48' '49' '50' '51'\n",
      " '52' '53' '54' '55' '56' '57' '58' '59' '60' '61' '62' '63' '64' '65'\n",
      " '66' '1' '3a' '3b' '7a' '7b' '7c' '14a' '14b' '14c' '21' '26' '34a' '34b'\n",
      " '34c' '46a' '46b' '47a' '47b' '57a' '57b' '67' '68' '69' '70' '71' '72'\n",
      " '73' '2' '25a' '25b' '25c' '35a' '35b' '37a' '37b' '38a' '38b' '48a'\n",
      " '48b' '52a' '52b' '73a' '73b' '73c' '73d' '73e' '73f' '73g' '74a' '74b'\n",
      " '74c' '74d' '74e' '74f' '74g' '74h' '74i' '74j' '75' '76' '77' '78' '79'\n",
      " '80' '81' '82' '83' '84' '85' '86' '87' '88' '89a' '89b' '90' '91' '92'\n",
      " '93a' '93b' '94' '95a' '95b' '96' '97a' '97b' '98' '99' '100' '101' '102'\n",
      " '103' '104' '105' '106' '107' '108' '109a' '109b' '110a' '110b ' '111'\n",
      " '112' '113' '114' '115' '116' '117' '118' '119' '5a' '5b' '5c' '9a' '9b'\n",
      " '9c' '11a' '11b' '11c' '11d' '28a' '28b' '62a ' '62b' '74' '77a' '77b'\n",
      " '77c' '89' '93' '95' '97' '109' '110' '114a' '114b' '114c' '114d' '120'\n",
      " '121' '122a' '122b' '123' '124' '125' '126' '127' '128' '129' '130'\n",
      " '131a' '131b' '132' '133' '134' '135' '136' '137' '138' '139' '140a '\n",
      " '140b' '141' '142' '143a' '143b' '144' '145a' '145b' '145c' '146' '147a'\n",
      " '147b' '147c' '147d' '147e' '148' '149' '150' '151' '152' '153a' '153b'\n",
      " '153c' '154' '155' '156' '157' '158' '159' '160' '161' '162' '163' '164'\n",
      " '165' '166' '167' '168' '169' '170' '171a' '171b' '171c' '172' '173a'\n",
      " '173b' '174' '175' '176' '177' '178' '179' '180' '181a' '181b' '182'\n",
      " '183' '184' '185' '186' '187' '188' '189a' '189b' '189c' '189d' '190'\n",
      " '191' '192' '193' '194' '195' '196' '27a' '27b' '27c' '70a' '70b' '70c'\n",
      " '75a' '75b' '76a' '76b' '76c' '80a' '80b' '82a' '82b' '82c' '83a' '83b'\n",
      " '83c' '86a' '86b' '86c' '87a' '87b' '87c' '87d' '92a' '92b' '92c' '92d'\n",
      " '119a ' '119b' '122' '128a' '128b' '140' '142a' '142b' '142c' '145' '147'\n",
      " '10a' '10b' '15a' '15b' '16a' '16b' '4a' '4b' '6a' '6b' '18a' '18b' '44a'\n",
      " '44b' '44c' '24a' '24b' '51a' '51b' '53a' '53b' '53c' '79a' '79b' '8a'\n",
      " '8b' '13a' '13b' '13c' '30a' '30b' '30c' '30d' '30e' '30f' '30g' '30h'\n",
      " '33a\\xa0' '33b\\xa0' '61a' '61b' '4c' '4d' '37c' '55a' '55b' '55c' '58a'\n",
      " '58b' '58c' '22a' '22b' '23a' '23b' '32a' '32b' '32c' '131' '143' '153'\n",
      " '171' '173' '181' '189' '197' '198' '199' '200' '201' '202' '203' '204'\n",
      " '205' '206' '207' '208' '209' '210' '211' '212' '213' '214' '215' '216'\n",
      " '217' '218' '219' '220' '221' '222' '223' '224' '225' '226' '227' '228'\n",
      " '229' '230' '231' '232' '233' '234' '235' '236' '237' '238' '239' '240'\n",
      " '241' '242' '243' '244' '245' '246' '247' '248' '249']\n",
      "\n",
      "Column: Trench No.\n",
      "['S.T.1' 'S.T.2' 'S.T.3' 'S.T.4' 'S.T.5' 'S.T.6' 'S.T.7' 'S.T.8' 'S.T.9'\n",
      " 'S.T.10' 'S.T.11' 'S.T.12' 'S.T.13' 'S.T.14' 'S.T.15' 'S.T.16' 'S.T.17'\n",
      " 'S.T.18' 'S.T.19']\n",
      "\n",
      "Column: Layer\n",
      "['S.U 1' 'S.U 2' 'S.U 3' 'S.U 4' 'S.U 9' 'S.U 12' 'S.U 13' 'S.U 17'\n",
      " 'S.U 18' 'S.U 19' 'S.U 20' 'S.U 21' 'S.U 22' 'S.U 23' 'S.U 24' 'S.U 25'\n",
      " 'S.U 26' 'S.U 27' 'S.U 28' 'S.U 29' 'S.U 30' 'S.U 31' 'S.U 32' 'S.U 33'\n",
      " 'S.U 34' 'S.U 35' 'S.U 7' 'S.U 10' 'S.U 6' 'S.U 8' 'S.U 15' 'S.U 40'\n",
      " 'S.U 41' 'S.U 5' 'S.U 11' 'S.U 14' 'S.U1 4' 'S.U 16' 'S.U 37' 'S.U 39'\n",
      " 'S.U 45' 'S.U 48' 'S.U 56' 'S.U 58' 'S.U 59' 'S.U 60' 'S.U 64' 'S.U 65']\n",
      "\n",
      "Column: Piece\n",
      "['Rim' 'Body' 'Base' 'Rim-Base']\n",
      "\n",
      "Column: Clay Paste\n",
      "['Buff' 'Red' 'Dark Red' 'Black' 'Grey' 'BUff' 'Dark red' 'Gery' 'Body'\n",
      " 'Base']\n",
      "\n",
      "Column: Colour of Wash/Slip\n",
      "['Buff' 'Red' 'Dark' 'Dark Red' 'Grey' 'NA' 'Dark red' 'Gery']\n",
      "\n",
      "Column: Wash/Slip\n",
      "['Wash' 'Slip' 'NA']\n",
      "\n",
      "Column: Position of Wash/Slip\n",
      "['Inside/Outside' 'NA']\n",
      "\n",
      "Column: Chamotte\n",
      "['Medium-sized' 'Fine' 'Very Fine' 'Coarse' 'fine' 'Very fine'\n",
      " 'Very Coarse']\n",
      "\n",
      "Column: Inside Quality\n",
      "['Medium' 'Coarse' 'Fine' 'fine']\n",
      "\n",
      "Column: Outside Quality\n",
      "['Medium' 'Coarse' 'Fine']\n",
      "\n",
      "Column: Firing Rate\n",
      "['sufficient' 'Deficient' 'Sufficient']\n",
      "\n",
      "Column: Rate of Saftly\n",
      "['Medium' 'Good' 'Bad' 'bad']\n",
      "\n",
      "Column: Inside Painting\n",
      "['NA' 'Inside' 'Inside\\xa0' 'Outside']\n",
      "\n",
      "Column: Painting Pattern\n",
      "['NA' 'Geometric' 'Mixed' 'Combined ' 'Animal']\n",
      "\n",
      "Column: Colour of Painting\n",
      "['NA' 'Brown' 'Black' 'Red']\n",
      "\n",
      "Column: Outside Painting\n",
      "['NA' 'Outside']\n",
      "\n",
      "Column: Painting Pattern.1\n",
      "['NA' 'Geometric' 'Herbal' 'Mixed' 'Animal' 'Mixec' 'Combined\\xa0'\n",
      " 'Combined ' \"Potter's mark\"]\n",
      "\n",
      "Column: Colour of Painting.1\n",
      "['NA' 'Brown' 'Black' 'Red' 'Multi colors' 'Herbal' 'Multi color']\n",
      "\n",
      "Column: Inside Engraving\n",
      "['NA' 'Inside' ' ']\n",
      "\n",
      "Column: Outside Engraving\n",
      "['NA' 'Outside' \"Potter's mark\"]\n",
      "\n",
      "Column: Engraving Pattern\n",
      "['NA' 'Geometric' \"Potter's mark\" \"Potter's mark \"]\n",
      "\n",
      "Column: Drawing/Shape\n",
      "['Shape' 'NA' 'Drawing' 'Drawing/Shape' 'Shape/Drwaing' 'Shape '\n",
      " 'Shape/Drawing' 'Dtawing' 'Shape\\xa0']\n",
      "\n",
      "Column: Comparable Site\n",
      "['Shahr-i Sokhta' 'Mundigak (AF)' 'Tepe Yahya' 'Miri Qalat (P)' 'Bampur'\n",
      " 'NA' 'Rud Biaban 2 ' 'Miri Qalat (P) ' 'Rud Biaban 2' 'Barra Kapoto (P)'\n",
      " 'Gardan Rag (AF)' 'Deh Morasi Ghundai (AF)' 'Periano Ghundai (P)'\n",
      " 'Nausharo (P)' 'Mobi Damb (P)' 'Pathani Damb I (P)' 'Shahdad'\n",
      " 'Gujranwala (P)' 'Damb Sadaat (P)' 'Nurzai' 'Quetta (P)' 'Damin'\n",
      " 'Miri Qalat (P)\\xa0']\n",
      "\n",
      "Column: Phase/Period\n",
      "['Phase: 6' 'PeriodIV3 ' 'Period IVB3 ' 'Period IIIC ' 'Bampur IV2 '\n",
      " 'Phase: 4 ' 'Phase: 5B ' 'Phase: 5A ' 'Period: IV2 ' 'NA' 'Phase: 6 '\n",
      " 'Phase: 8-7 ' 'Phase: 3 ' 'Period IIIB3 ' 'Period IIIb ' 'Phase: 5 '\n",
      " 'Bampur: I-IV ' 'Period: IVB4-2 ' 'Phase: 4' 'Bampur VI ' 'Period: IV3'\n",
      " 'Phase: 5B' 'Period: IVB3 ' 'Period: IVB1 ' 'Period: IV3 '\n",
      " 'Period: IIIC ' 'Phase: 0-1 ' 'Phase: 5A' 'Period: IIIb' 'Period: IVB3'\n",
      " 'Period: IIIC' 'Period: IV1' 'Period: IVB1' 'Bampur IV ' 'Phase: 5A  '\n",
      " 'Phase: 3' 'Period: IV2' 'Quatta Culture ' 'Survey' 'Periano Culture '\n",
      " 'I-d' 'Harrapa Culture' 'Period: IV1 ' 'Ghabrestan B' 'Period: IIIb '\n",
      " 'BAMPUR IV ' 'Bampur III' 'Bampur VI' 'Kot Diji' 'Phase: 2' 'Phase: 1-0'\n",
      " 'Period: IVB6 ' 'Phase: 8-7' 'Phase: 1' 'Period: IIIB' 'Bampur I-IV'\n",
      " 'Period: IIIA' 'Bampur V' 'Bampur IV' '2100- 1800 BC' 'Phase: 5'\n",
      " 'Period: IVC2' 'Phase: 5B\\xa0' 'Phase: 5A\\xa0' 'Phase: 3\\xa0'\n",
      " 'Phase: 4\\xa0' 'Period: IV3\\xa0' 'Period: IV1\\xa0' 'Bampur IV3'\n",
      " 'Period: IVB1\\xa0' 'Period: IIIb\\xa0' 'Period: IIIc\\xa0' 'Phase: 1-0\\xa0'\n",
      " 'Damb Sadaat III\\xa0' 'Period: IVb-c' 'Nurzai' 'Phase: 3-4\\xa0'\n",
      " 'Period: IVB\\xa0' 'Phase: 0-1' 'Period: IVC2\\xa0' 'Period IIIb'\n",
      " 'Morasi Culture' 'Period: IVB6\\xa0' 'Phase: 6\\xa0' 'Phase: 8-7\\xa0']\n",
      "\n"
     ]
    }
   ],
   "source": [
    "#unique values\n",
    "for column in df.columns:\n",
    "    # Print the column name\n",
    "    print(\"Column:\", column)\n",
    "    # Print unique values in the column\n",
    "    print(df[column].unique())\n",
    "    print()  # Add a line break for readability"
   ]
  },
  {
   "cell_type": "code",
   "execution_count": 12,
   "id": "dadfa3bd",
   "metadata": {},
   "outputs": [
    {
     "name": "stdout",
     "output_type": "stream",
     "text": [
      "Unique values in 'No. Drawing' column after corrections:\n",
      "['1a' '1b' '1c' '1d' '2a' '2b' '3' '4' '5' '6' '7' '8' '9' '10' '11' '12'\n",
      " '13' '14' '15' '16' '17' '18' '19' '20' '21a' '21b' '21c' '22' '23' '24'\n",
      " '25' '26a' '26b' '27' '28' '29' '30' '31' '32' '33' '34' '35' '36' '37'\n",
      " '38' '39' '40' '41' '42' '43' '44' '45' '46' '47' '48' '49' '50' '51'\n",
      " '52' '53' '54' '55' '56' '57' '58' '59' '60' '61' '62' '63' '64' '65'\n",
      " '66' '1' '3a' '3b' '7a' '7b' '7c' '14a' '14b' '14c' '21' '26' '34a' '34b'\n",
      " '34c' '46a' '46b' '47a' '47b' '57a' '57b' '67' '68' '69' '70' '71' '72'\n",
      " '73' '2' '25a' '25b' '25c' '35a' '35b' '37a' '37b' '38a' '38b' '48a'\n",
      " '48b' '52a' '52b' '73a' '73b' '73c' '73d' '73e' '73f' '73g' '74a' '74b'\n",
      " '74c' '74d' '74e' '74f' '74g' '74h' '74i' '74j' '75' '76' '77' '78' '79'\n",
      " '80' '81' '82' '83' '84' '85' '86' '87' '88' '89a' '89b' '90' '91' '92'\n",
      " '93a' '93b' '94' '95a' '95b' '96' '97a' '97b' '98' '99' '100' '101' '102'\n",
      " '103' '104' '105' '106' '107' '108' '109a' '109b' '110a' '110b ' '111'\n",
      " '112' '113' '114' '115' '116' '117' '118' '119' '5a' '5b' '5c' '9a' '9b'\n",
      " '9c' '11a' '11b' '11c' '11d' '28a' '28b' '62a ' '62b' '74' '77a' '77b'\n",
      " '77c' '89' '93' '95' '97' '109' '110' '114a' '114b' '114c' '114d' '120'\n",
      " '121' '122a' '122b' '123' '124' '125' '126' '127' '128' '129' '130'\n",
      " '131a' '131b' '132' '133' '134' '135' '136' '137' '138' '139' '140a '\n",
      " '140b' '141' '142' '143a' '143b' '144' '145a' '145b' '145c' '146' '147a'\n",
      " '147b' '147c' '147d' '147e' '148' '149' '150' '151' '152' '153a' '153b'\n",
      " '153c' '154' '155' '156' '157' '158' '159' '160' '161' '162' '163' '164'\n",
      " '165' '166' '167' '168' '169' '170' '171a' '171b' '171c' '172' '173a'\n",
      " '173b' '174' '175' '176' '177' '178' '179' '180' '181a' '181b' '182'\n",
      " '183' '184' '185' '186' '187' '188' '189a' '189b' '189c' '189d' '190'\n",
      " '191' '192' '193' '194' '195' '196' '27a' '27b' '27c' '70a' '70b' '70c'\n",
      " '75a' '75b' '76a' '76b' '76c' '80a' '80b' '82a' '82b' '82c' '83a' '83b'\n",
      " '83c' '86a' '86b' '86c' '87a' '87b' '87c' '87d' '92a' '92b' '92c' '92d'\n",
      " '119a ' '119b' '122' '128a' '128b' '140' '142a' '142b' '142c' '145' '147'\n",
      " '10a' '10b' '15a' '15b' '16a' '16b' '4a' '4b' '6a' '6b' '18a' '18b' '44a'\n",
      " '44b' '44c' '24a' '24b' '51a' '51b' '53a' '53b' '53c' '79a' '79b' '8a'\n",
      " '8b' '13a' '13b' '13c' '30a' '30b' '30c' '30d' '30e' '30f' '30g' '30h'\n",
      " '33a' '33b' '61a' '61b' '4c' '4d' '37c' '55a' '55b' '55c' '58a' '58b'\n",
      " '58c' '22a' '22b' '23a' '23b' '32a' '32b' '32c' '131' '143' '153' '171'\n",
      " '173' '181' '189' '197' '198' '199' '200' '201' '202' '203' '204' '205'\n",
      " '206' '207' '208' '209' '210' '211' '212' '213' '214' '215' '216' '217'\n",
      " '218' '219' '220' '221' '222' '223' '224' '225' '226' '227' '228' '229'\n",
      " '230' '231' '232' '233' '234' '235' '236' '237' '238' '239' '240' '241'\n",
      " '242' '243' '244' '245' '246' '247' '248' '249']\n",
      "\n",
      "Unique values in 'Trench No.' column after corrections:\n",
      "['S.T.1' 'S.T.2' 'S.T.3' 'S.T.4' 'S.T.5' 'S.T.6' 'S.T.7' 'S.T.8' 'S.T.9'\n",
      " 'S.T.10' 'S.T.11' 'S.T.12' 'S.T.13' 'S.T.14' 'S.T.15' 'S.T.16' 'S.T.17'\n",
      " 'S.T.18' 'S.T.19']\n",
      "\n",
      "Unique values in 'Layer' column after corrections:\n",
      "['S.U 1' 'S.U 2' 'S.U 3' 'S.U 4' 'S.U 9' 'S.U 12' 'S.U 13' 'S.U 17'\n",
      " 'S.U 18' 'S.U 19' 'S.U 20' 'S.U 21' 'S.U 22' 'S.U 23' 'S.U 24' 'S.U 25'\n",
      " 'S.U 26' 'S.U 27' 'S.U 28' 'S.U 29' 'S.U 30' 'S.U 31' 'S.U 32' 'S.U 33'\n",
      " 'S.U 34' 'S.U 35' 'S.U 7' 'S.U 10' 'S.U 6' 'S.U 8' 'S.U 15' 'S.U 40'\n",
      " 'S.U 41' 'S.U 5' 'S.U 11' 'S.U 14' 'S.U 16' 'S.U 37' 'S.U 39' 'S.U 45'\n",
      " 'S.U 48' 'S.U 56' 'S.U 58' 'S.U 59' 'S.U 60' 'S.U 64' 'S.U 65']\n",
      "\n",
      "Unique values in 'Piece' column after corrections:\n",
      "['Rim' 'Body' 'Base' 'Rim-Base']\n",
      "\n",
      "Unique values in 'Clay Paste' column after corrections:\n",
      "['Buff' 'Red' 'Dark Red' 'Black' 'Grey' 'Dark red' 'Body' 'Base']\n",
      "\n",
      "Unique values in 'Colour of Wash/Slip' column after corrections:\n",
      "['Buff' 'Red' 'Dark' 'Dark Red' 'Grey' 'N/A' 'Dark red']\n",
      "\n",
      "Unique values in 'Wash/Slip' column after corrections:\n",
      "['Wash' 'Slip' 'N/A']\n",
      "\n",
      "Unique values in 'Position of Wash/Slip' column after corrections:\n",
      "['Inside/Outside' 'N/A']\n",
      "\n",
      "Unique values in 'Chamotte' column after corrections:\n",
      "['Medium-sized' 'Fine' 'Very Fine' 'Coarse' 'Very Coarse']\n",
      "\n",
      "Unique values in 'Inside Quality' column after corrections:\n",
      "['Medium' 'Coarse' 'Fine']\n",
      "\n",
      "Unique values in 'Outside Quality' column after corrections:\n",
      "['Medium' 'Coarse' 'Fine']\n",
      "\n",
      "Unique values in 'Firing Rate' column after corrections:\n",
      "['Sufficient' 'Deficient']\n",
      "\n",
      "Unique values in 'Rate of Saftly' column after corrections:\n",
      "['Medium' 'Good' 'bad']\n",
      "\n",
      "Unique values in 'Inside Painting' column after corrections:\n",
      "['N/A' 'Inside' 'Outside']\n",
      "\n",
      "Unique values in 'Painting Pattern' column after corrections:\n",
      "['N/A' 'Geometric' 'Mixed' 'Combined' 'Animal']\n",
      "\n",
      "Unique values in 'Colour of Painting' column after corrections:\n",
      "['N/A' 'Brown' 'Black' 'Red']\n",
      "\n",
      "Unique values in 'Outside Painting' column after corrections:\n",
      "['N/A' 'Outside']\n",
      "\n",
      "Unique values in 'Painting Pattern.1' column after corrections:\n",
      "['N/A' 'Geometric' 'Herbal' 'Mixed' 'Animal' 'Combined' \"Potter's mark\"]\n",
      "\n",
      "Unique values in 'Colour of Painting.1' column after corrections:\n",
      "['N/A' 'Brown' 'Black' 'Red' 'Multi colors' 'Herbal']\n",
      "\n",
      "Unique values in 'Inside Engraving' column after corrections:\n",
      "['N/A' 'Inside']\n",
      "\n",
      "Unique values in 'Outside Engraving' column after corrections:\n",
      "['N/A' 'Outside' \"Potter's mark\"]\n",
      "\n",
      "Unique values in 'Engraving Pattern' column after corrections:\n",
      "['N/A' 'Geometric' \"Potter's mark\"]\n",
      "\n",
      "Unique values in 'Drawing/Shape' column after corrections:\n",
      "['Shape' 'N/A' 'Drawing' 'Shape/Drawing']\n",
      "\n",
      "Unique values in 'Comparable Site' column after corrections:\n",
      "['Shahr-i Sokhta' 'Mundigak (AF)' 'Tepe Yahya' 'Miri Qalat (P)' 'Bampur'\n",
      " 'N/A' 'Rud Biaban 2 ' 'Rud Biaban 2' 'Barra Kapoto (P)' 'Gardan Rag (AF)'\n",
      " 'Deh Morasi Ghundai (AF)' 'Periano Ghundai (P)' 'Nausharo (P)'\n",
      " 'Mobi Damb (P)' 'Pathani Damb I (P)' 'Shahdad' 'Gujranwala (P)'\n",
      " 'Damb Sadaat (P)' 'Nurzai' 'Quetta (P)' 'Damin']\n",
      "\n",
      "Unique values in 'Phase/Period' column after corrections:\n",
      "['Phase: 6' 'Period IV3' 'Period IVB3' 'Period IIIC ' 'Bampur IV2 '\n",
      " 'Phase: 4' 'Phase: 5B' 'Phase: 5A ' 'Period: IV2 ' 'N/A' 'Phase: 6 '\n",
      " 'Phase: 8-7 ' 'Phase: 3 ' 'Period IIIB3 ' 'Period IIIb ' 'Phase: 5 '\n",
      " 'Bampur: I-IV ' 'Period: IVB4-2' 'Bampur VI ' 'Period: IV3'\n",
      " 'Period: IVB3 ' 'Period: IVB1 ' 'Period: IV3 ' 'Period: IIIC '\n",
      " 'Phase: 0-1 ' 'Phase: 5A' 'Period: IIIb' 'Period: IVB3' 'Period: IIIC'\n",
      " 'Period: IV1' 'Period: IVB1' 'Bampur IV ' 'Phase: 3' 'Period: IV2'\n",
      " 'Quatta Culture ' 'Survey' 'Periano Culture ' 'I-d' 'Harrapa Culture'\n",
      " 'Period: IV1 ' 'Ghabrestan B' 'Period: IIIb ' 'BAMPUR IV ' 'Bampur III'\n",
      " 'Bampur VI' 'Kot Diji' 'Phase: 2' 'Phase: 1-0' 'Period: IVB6'\n",
      " 'Phase: 8-7' 'Phase: 1' 'Period: IIIB' 'Bampur I-IV' 'Period: IIIA'\n",
      " 'Bampur V' 'Bampur IV' '2100- 1800 BC' 'Phase: 5' 'Period: IVC2'\n",
      " 'Bampur IV3' 'Period: IIIc' 'Damb Sadaat III' 'Period: IVB-C' 'Nurzai'\n",
      " 'Phase: 3-4' 'Period: IVB\\xa0' 'Phase: 0-1' 'Period IIIb'\n",
      " 'Morasi Culture']\n",
      "\n"
     ]
    }
   ],
   "source": [
    "# Define corrections for each column\n",
    "corrections1 = {\n",
    "    'Drak red': 'Dark Red',\n",
    "    'BUff': 'Buff',\n",
    "    'Gery' : 'Grey',\n",
    "    'S.U1 4': 'S.U 14',\n",
    "    'Phase: 8-7': 'Phase: 8-7',\n",
    "    'Phase: 5B ': 'Phase: 5B',\n",
    "    'Shape ': 'Shape',\n",
    "    'Drawing/Shape': 'Shape/Drawing',\n",
    "    'Shape/Drwaing': 'Shape/Drawing',\n",
    "    'Dtawing': 'Drawing',\n",
    "    'Shape\\xa0': 'Shape',\n",
    "    'NA': 'N/A',\n",
    "    ' ' : 'N/A',\n",
    "    'PeriodIV3 ': 'Period IV3',\n",
    "    'Period IVB3 ': 'Period IVB3',\n",
    "    'Phase: 4 ': 'Phase: 4',\n",
    "    'Combined ': 'Combined',\n",
    "    'Bad': 'bad',\n",
    "    'Mixec': 'Mixed',\n",
    "    'Colour of Painting.1': 'Colour of Painting.1 ',\n",
    "    'Potter\\'s mark ': 'Potter\\'s mark',\n",
    "    'Period: IVB4-2 ': 'Period: IVB4-2',\n",
    "    'Phase: 5A  ': 'Phase: 5A',\n",
    "    'Phase: 1-0': 'Phase: 1-0',\n",
    "    'Period: IVB6 ': 'Period: IVB6',\n",
    "    'Phase: 1-0\\xa0': 'Phase: 1-0',\n",
    "    'Damb Sadaat III\\xa0': 'Damb Sadaat III',\n",
    "    'Period: IVb-c': 'Period: IVB-C',\n",
    "    'Period: IVB ': 'Period: IVB',\n",
    "    'Phase: 3-4\\xa0': 'Phase: 3-4',\n",
    "    'Period: IVB6\\xa0': 'Period: IVB6',\n",
    "    'Period: IVC2\\xa0': 'Period: IVC2',\n",
    "    'Phase: 8-7\\xa0': 'Phase: 8-7',\n",
    "    'Phase: 5A\\xa0' : 'Phase: 5A',\n",
    "    'Phase: 5B\\xa0' : 'Phase: 5B',\n",
    "    'Phase: 5B ' :  'Phase: 5B',\n",
    "    'Phase: 3\\xa0': 'Phase: 3',\n",
    "    'Phase: 4\\xa0': 'Phase: 4',\n",
    "    'Period: IV3\\xa0': 'Period: IV3',\n",
    "    'Period: IV1\\xa0': 'Period: IV1',\n",
    "    'Period: IVB1\\xa0': 'Period: IVB1',\n",
    "    'Period: IIIb\\xa0': 'Period: IIIb',\n",
    "    'Period: IIIc\\xa0': 'Period: IIIc',\n",
    "    'Phase: 1-0\\xa0': 'Phase: 1-0',\n",
    "    'Damb Sadaat III\\xa0': 'Damb Sadaat III',\n",
    "    'Period: IVB6\\xa0': 'Period: IVB6',\n",
    "    'Phase: 3-4\\xa0': 'Phase: 3-4',\n",
    "    'Period: IVC2\\xa0': 'Period: IVC2',\n",
    "    'Phase: 6\\xa0': 'Phase: 6',\n",
    "    'Phase: 8-7\\xa0': 'Phase: 8-7',\n",
    "    'Inside\\xa0' : 'Inside',\n",
    "    'Very fine' : 'Very Fine',\n",
    "    'fine' : 'Fine',\n",
    "    'sufficient' : 'Sufficient',\n",
    "    'Combined\\xa0' : 'Combined',\n",
    "    'Multi color' : 'Multi colors',\n",
    "    'Miri Qalat (P)\\xa0' : 'Miri Qalat (P)',\n",
    "    'Miri Qalat (P) ' : 'Miri Qalat (P)',\n",
    "    '33a\\xa0' : '33a',\n",
    "    '33b\\xa0' : '33b'\n",
    "}\n",
    "\n",
    "# Apply corrections to each column\n",
    "df['No. Drawing'] = df['No. Drawing'].replace(corrections1)\n",
    "df['Trench No.'] = df['Trench No.'].replace(corrections1)\n",
    "df['Layer'] = df['Layer'].replace(corrections1)\n",
    "df['Piece'] = df['Piece'].replace(corrections1)\n",
    "df['Clay Paste'] = df['Clay Paste'].replace(corrections1)\n",
    "df['Colour of Wash/Slip'] = df['Colour of Wash/Slip'].replace(corrections1)\n",
    "df['Wash/Slip'] = df['Wash/Slip'].replace(corrections1)\n",
    "df['Position of Wash/Slip'] = df['Position of Wash/Slip'].replace(corrections1)\n",
    "df['Chamotte'] = df['Chamotte'].replace(corrections1)\n",
    "df['Inside Quality'] = df['Inside Quality'].replace(corrections1)\n",
    "df['Outside Quality'] = df['Outside Quality'].replace(corrections1)\n",
    "df['Firing Rate'] = df['Firing Rate'].replace(corrections1)\n",
    "df['Rate of Saftly'] = df['Rate of Saftly'].replace(corrections1)\n",
    "df['Inside Painting'] = df['Inside Painting'].replace(corrections1)\n",
    "df['Colour of Painting'] = df['Colour of Painting'].replace(corrections1)\n",
    "df['Painting Pattern'] = df['Painting Pattern'].replace(corrections1)\n",
    "df['Outside Painting'] = df['Outside Painting'].replace(corrections1)\n",
    "df['Painting Pattern.1'] = df['Painting Pattern.1'].replace(corrections1)\n",
    "df['Colour of Painting.1'] = df['Colour of Painting.1'].replace(corrections1)\n",
    "df['Inside Engraving'] = df['Inside Engraving'].replace(corrections1)\n",
    "df['Outside Engraving'] = df['Outside Engraving'].replace(corrections1)\n",
    "df['Engraving Pattern'] = df['Engraving Pattern'].replace(corrections1)\n",
    "df['Drawing/Shape'] = df['Drawing/Shape'].replace(corrections1)\n",
    "df['Comparable Site'] = df['Comparable Site'].replace(corrections1)\n",
    "df['Phase/Period'] = df['Phase/Period'].replace(corrections1)\n",
    "\n",
    "# Print the corrected unique values for each column\n",
    "for column in df.columns:\n",
    "    print(\"Unique values in '{}' column after corrections:\".format(column))\n",
    "    print(df[column].unique())\n",
    "    print()\n"
   ]
  },
  {
   "cell_type": "markdown",
   "id": "1808cd54",
   "metadata": {},
   "source": [
    "questions to ask: \n",
    "\n",
    "* no of shreds finding based on the trech no\n",
    "* checking the difference in pottery making ( materials or style ) depend on the starum unit ( which starum unit has which type of potery making) \n",
    "* Pottery shred finding from SU and its comparable site and the phase \n",
    "* condition of pottery shred found on the trench \n",
    "* changes in poterry making techniques(firing temperature) over time based on the SU\n",
    "* frequency of shred types based on clay paste used and the painting pattren\n",
    "* frequency of shred types based on clay paste used and the engraving pattren\n",
    "* no of potery shreds found in trech based on the chamote \n",
    "* type of firing rate used based on the wash/slip\n",
    "* do the decarotion patren like engraving changes over time based on SU \n",
    "\n",
    "\n",
    "\n",
    "\n"
   ]
  },
  {
   "cell_type": "markdown",
   "id": "84472978",
   "metadata": {},
   "source": [
    "\n",
    "**Distribution and Quantity:**\n",
    "\n",
    "1. **Spatial Distribution of Sherds:** How many pottery sherds were found in each trench (identified by Trench No.)? This will reveal where the majority of pottery was concentrated within the excavation area.\n",
    "\n",
    "**Technology and Change Over Time:**\n",
    "\n",
    "2. **Pottery Making Techniques by Stratum Unit (SU):**  Are there any differences in pottery-making materials or styles (e.g., clay paste, decoration) observed between different Stratum Units (SU)? This can help identify potential changes in pottery-making practices over time.\n",
    "\n",
    "3. **Comparable Sites and Phases for Sherds by SU:**  Can we associate the pottery sherds from each Stratum Unit (SU) with known archaeological sites and their corresponding phases (using information from Comparable Site and Phase/Period columns)? This can provide clues about cultural connections and potential trade routes.\n",
    "\n",
    "4. **Sherd Condition by Trench:**  Does the data record the condition of the pottery sherds found in each trench (information potentially missing based on your data preview)? Analyzing sherd condition can shed light on post-depositional processes (e.g., breakage, burning) that might have occurred at the site.\n",
    "\n",
    "5. **Firing Temperature Changes by SU:**  If the Firing Rate column provides temperature data, can we identify any trends in firing temperatures across different Stratum Units (SU)? This could indicate changes in pottery-making technology over time.\n",
    "\n",
    "**Frequency of Sherd Types:**\n",
    "\n",
    "6. **Frequency of Sherd Types Based on Clay Paste and Painting Pattern:**  How often do specific combinations of clay paste type (Clay Paste) and painting pattern (Painting Pattern) appear in the data? This can reveal preferred styles or techniques used by potters for different clay compositions.\n",
    "\n",
    "7. **Frequency of Sherd Types Based on Clay Paste and Engraving Pattern:**  Similar to question 6, but focusing on the relationship between clay paste type (Clay Paste) and engraving patterns (Engraving Pattern) present on the sherds.\n",
    "\n",
    "**Additional Analysis (depending on data availability):**\n",
    "\n",
    "8. **Chamotte and Trench Distribution:**  Does the presence or absence of temper (Chamotte) in the clay paste correlate with the trench where the sherd was found (Trench No.)? This might suggest different pottery sources or workshops supplying specific areas of the excavation site.\n",
    "\n",
    "9. **Wash/Slip and Firing Rate:**  Is there a relationship between the presence or type of wash/slip (Wash/Slip) and the firing rate (Firing Rate) used for the pottery? This could reveal how potters adjusted firing techniques based on the surface treatment applied.\n",
    "\n",
    "10. **Changes in Engraving Patterns Over Time:**  If the data allows for identifying specific engraving pattern types (Engraving Pattern), can we observe any changes in these patterns across different Stratum Units (SU)? This could indicate stylistic shifts or cultural influences over time.\n",
    "\n"
   ]
  },
  {
   "cell_type": "markdown",
   "id": "187c6284",
   "metadata": {},
   "source": [
    "### **Distribution and Quantity:**"
   ]
  },
  {
   "cell_type": "markdown",
   "id": "60f3b516",
   "metadata": {},
   "source": [
    "1. **Spatial Distribution of Sherds:** How many pottery sherds were found in each trench (identified by Trench No.)? This will reveal where the majority of pottery was concentrated within the excavation area."
   ]
  },
  {
   "cell_type": "code",
   "execution_count": 13,
   "id": "70b93ba0",
   "metadata": {},
   "outputs": [
    {
     "data": {
      "image/png": "[encoded data removed]",
      "text/plain": [
       "<Figure size 720x432 with 1 Axes>"
      ]
     },
     "metadata": {
      "needs_background": "light"
     },
     "output_type": "display_data"
    }
   ],
   "source": [
    "import matplotlib.pyplot as plt\n",
    "\n",
    "# Count the number of shards based on trench number\n",
    "shards_per_trench = df['Trench No.'].value_counts()\n",
    "\n",
    "# Create a bar chart\n",
    "plt.figure(figsize=(10, 6))\n",
    "shards_per_trench.plot(kind='bar', color='skyblue')\n",
    "plt.title('Number of Shards Found in Each Trench')\n",
    "plt.xlabel('Trench Number')\n",
    "plt.ylabel('Number of Shards')\n",
    "plt.xticks(rotation=45, ha='right')\n",
    "plt.tight_layout()\n",
    "plt.show()\n"
   ]
  },
  {
   "cell_type": "markdown",
   "id": "6a2ccece",
   "metadata": {},
   "source": [
    "The \"Trench No.\" (ST1 to ST19) refers to the specific excavation area within the archaeological site where each pottery sherd was found. From the above graph can see \"The majority of pottery sherds were found in Trench No. ST.1.\""
   ]
  },
  {
   "cell_type": "markdown",
   "id": "2adafb1c",
   "metadata": {},
   "source": [
    "### **Technology and Change Over Time:**\n"
   ]
  },
  {
   "cell_type": "markdown",
   "id": "e5753d0c",
   "metadata": {},
   "source": [
    "2. **Pottery Making Techniques by Stratum Unit (SU):**  Are there any differences in pottery-making materials and painting pattren and color of painting observed between different Stratum Units (SU)? This can help identify potential changes in pottery-making practices over time."
   ]
  },
  {
   "cell_type": "code",
   "execution_count": 14,
   "id": "a01284ef",
   "metadata": {},
   "outputs": [],
   "source": [
    "# Group the data by 'Layer' (Stratum Units)\n",
    "group_by_SU = df.groupby('Layer')"
   ]
  },
  {
   "cell_type": "code",
   "execution_count": 15,
   "id": "fff6b8a9",
   "metadata": {},
   "outputs": [
    {
     "name": "stdout",
     "output_type": "stream",
     "text": [
      "Clay Paste  Base  Black  Body   Buff  Dark Red  Dark red  Grey   Red\n",
      "Layer                                                               \n",
      "S.U 1        0.0    8.0   0.0  215.0      43.0       0.0  10.0  20.0\n",
      "S.U 10       0.0    0.0   0.0   36.0       0.0       0.0   0.0   0.0\n",
      "S.U 11       0.0    0.0   0.0    7.0       2.0       0.0   0.0   0.0\n",
      "S.U 12       0.0    0.0   0.0   10.0       0.0       3.0   1.0   2.0\n",
      "S.U 13       0.0    0.0   0.0    3.0       0.0       1.0   0.0   0.0\n",
      "S.U 14       0.0    0.0   0.0   13.0       2.0       0.0   1.0   1.0\n",
      "S.U 15       0.0    0.0   0.0   16.0       1.0       2.0   1.0   0.0\n",
      "S.U 16       0.0    0.0   0.0    2.0       0.0       0.0   1.0   0.0\n",
      "S.U 17       0.0    0.0   0.0   27.0      13.0       0.0   0.0   0.0\n",
      "S.U 18       0.0    0.0   0.0   33.0       8.0       0.0   0.0   0.0\n",
      "S.U 19       0.0    0.0   0.0    1.0       0.0       0.0   0.0   0.0\n",
      "S.U 2        0.0    2.0   0.0   97.0      50.0       0.0   2.0  12.0\n",
      "S.U 20       0.0    0.0   0.0    1.0       0.0       0.0   0.0   0.0\n",
      "S.U 21       0.0    0.0   0.0    1.0       0.0       0.0   0.0   0.0\n",
      "S.U 22       0.0    0.0   0.0   71.0      14.0       0.0   1.0   2.0\n",
      "S.U 23       0.0    0.0   0.0    8.0       2.0       0.0   0.0   0.0\n",
      "S.U 24       0.0    0.0   0.0    5.0       2.0       0.0   0.0   0.0\n",
      "S.U 25       0.0    0.0   0.0   52.0       3.0       0.0   0.0   0.0\n",
      "S.U 26       0.0    0.0   0.0   79.0      14.0       0.0   0.0   1.0\n",
      "S.U 27       0.0    0.0   0.0   24.0      17.0       0.0   0.0   0.0\n",
      "S.U 28       0.0    0.0   0.0    9.0       0.0       0.0   0.0   0.0\n",
      "S.U 29       0.0    0.0   0.0    6.0       0.0       0.0   0.0   0.0\n",
      "S.U 3        0.0    2.0   0.0  163.0      46.0       0.0   9.0  25.0\n",
      "S.U 30       0.0    0.0   0.0    0.0       1.0       0.0   0.0   0.0\n",
      "S.U 31       0.0    0.0   0.0   15.0       5.0       0.0   0.0   0.0\n",
      "S.U 32       0.0    0.0   0.0   43.0       2.0       0.0   0.0   4.0\n",
      "S.U 33       0.0    0.0   0.0   22.0      10.0       0.0   0.0   2.0\n",
      "S.U 34       0.0    0.0   0.0    7.0       1.0       0.0   0.0   0.0\n",
      "S.U 35       0.0    0.0   0.0   10.0       1.0       0.0   0.0   0.0\n",
      "S.U 37       0.0    0.0   0.0    0.0       2.0       0.0   0.0   0.0\n",
      "S.U 39       0.0    0.0   0.0    4.0       1.0       0.0   2.0   0.0\n",
      "S.U 4        0.0    0.0   0.0  152.0       8.0      57.0   5.0  23.0\n",
      "S.U 40       0.0    0.0   0.0    3.0       0.0       0.0   0.0   0.0\n",
      "S.U 41       0.0    0.0   0.0    3.0       0.0       0.0   0.0   1.0\n",
      "S.U 45       0.0    0.0   0.0    3.0       0.0       0.0   0.0   0.0\n",
      "S.U 48       0.0    0.0   0.0    5.0       1.0       0.0   1.0   0.0\n",
      "S.U 5        0.0    0.0   0.0    5.0       0.0       0.0   1.0   0.0\n",
      "S.U 56       0.0    0.0   0.0    5.0       0.0       0.0   0.0   0.0\n",
      "S.U 58       0.0    0.0   0.0    8.0       1.0       0.0   0.0   1.0\n",
      "S.U 59       0.0    0.0   0.0   30.0      10.0       0.0   2.0   0.0\n",
      "S.U 6        0.0    0.0   0.0   37.0       2.0       0.0   0.0   1.0\n",
      "S.U 60       0.0    0.0   0.0    1.0       1.0       0.0   1.0   0.0\n",
      "S.U 64       0.0    0.0   0.0    0.0       0.0       0.0   1.0   0.0\n",
      "S.U 65       0.0    0.0   0.0    3.0       1.0       0.0   0.0   0.0\n",
      "S.U 7        0.0    0.0   0.0   36.0       0.0       0.0   0.0   0.0\n",
      "S.U 8        0.0    0.0   0.0   17.0       0.0       0.0   1.0   1.0\n",
      "S.U 9        4.0    1.0   1.0  126.0       0.0      48.0   4.0  12.0\n"
     ]
    }
   ],
   "source": [
    "# Count the frequency of each 'Clay Paste' type within each S.U\n",
    "clay_paste_by_SU = group_by_SU['Clay Paste'].value_counts().unstack().fillna(0)\n",
    "print(clay_paste_by_SU)"
   ]
  },
  {
   "cell_type": "code",
   "execution_count": 16,
   "id": "f7c284c9",
   "metadata": {},
   "outputs": [
    {
     "name": "stdout",
     "output_type": "stream",
     "text": [
      "Painting Pattern  Animal  Combined  Geometric  Mixed    N/A\n",
      "Layer                                                      \n",
      "S.U 1                0.0       0.0       23.0    0.0  273.0\n",
      "S.U 10               0.0       0.0        2.0    0.0   34.0\n",
      "S.U 11               0.0       0.0        2.0    1.0    6.0\n",
      "S.U 12               0.0       0.0        4.0    0.0   12.0\n",
      "S.U 13               0.0       0.0        0.0    0.0    4.0\n",
      "S.U 14               0.0       0.0        4.0    0.0   13.0\n",
      "S.U 15               0.0       0.0        2.0    0.0   18.0\n",
      "S.U 16               0.0       2.0        0.0    0.0    1.0\n",
      "S.U 17               0.0       1.0        4.0    1.0   34.0\n",
      "S.U 18               0.0       0.0        1.0    0.0   40.0\n",
      "S.U 19               0.0       0.0        0.0    0.0    1.0\n",
      "S.U 2                0.0       0.0       10.0    5.0  148.0\n",
      "S.U 20               0.0       0.0        0.0    0.0    1.0\n",
      "S.U 21               0.0       0.0        0.0    0.0    1.0\n",
      "S.U 22               0.0       1.0        7.0    0.0   80.0\n",
      "S.U 23               0.0       0.0        1.0    0.0    9.0\n",
      "S.U 24               0.0       0.0        1.0    0.0    6.0\n",
      "S.U 25               0.0       0.0        8.0    0.0   47.0\n",
      "S.U 26               0.0       0.0        5.0    0.0   89.0\n",
      "S.U 27               0.0       0.0        1.0    0.0   40.0\n",
      "S.U 28               0.0       0.0        0.0    0.0    9.0\n",
      "S.U 29               0.0       2.0        0.0    0.0    4.0\n",
      "S.U 3                1.0       7.0       43.0    0.0  194.0\n",
      "S.U 30               0.0       0.0        0.0    0.0    1.0\n",
      "S.U 31               0.0       1.0        2.0    0.0   17.0\n",
      "S.U 32               0.0       0.0        4.0    0.0   45.0\n",
      "S.U 33               0.0       0.0        6.0    0.0   28.0\n",
      "S.U 34               0.0       0.0        0.0    0.0    8.0\n",
      "S.U 35               0.0       0.0        0.0    1.0   10.0\n",
      "S.U 37               0.0       0.0        0.0    0.0    2.0\n",
      "S.U 39               0.0       0.0        1.0    0.0    6.0\n",
      "S.U 4                0.0       0.0       61.0    0.0  184.0\n",
      "S.U 40               0.0       0.0        0.0    0.0    3.0\n",
      "S.U 41               0.0       0.0        0.0    0.0    4.0\n",
      "S.U 45               0.0       0.0        1.0    0.0    2.0\n",
      "S.U 48               0.0       0.0        2.0    0.0    5.0\n",
      "S.U 5                0.0       0.0        2.0    0.0    4.0\n",
      "S.U 56               0.0       0.0        0.0    0.0    5.0\n",
      "S.U 58               0.0       0.0        1.0    0.0    9.0\n",
      "S.U 59               0.0       1.0        5.0    0.0   36.0\n",
      "S.U 6                0.0       0.0        2.0    1.0   37.0\n",
      "S.U 60               0.0       1.0        0.0    0.0    2.0\n",
      "S.U 64               0.0       0.0        0.0    0.0    1.0\n",
      "S.U 65               0.0       1.0        0.0    0.0    3.0\n",
      "S.U 7                0.0       0.0        3.0    0.0   33.0\n",
      "S.U 8                0.0       0.0        2.0    0.0   17.0\n",
      "S.U 9                0.0       0.0       28.0    1.0  167.0\n"
     ]
    }
   ],
   "source": [
    "# Count the frequency of each 'Painting Pattern' within each S.U\n",
    "painting_pattren_by_SU = group_by_SU['Painting Pattern'].value_counts().unstack().fillna(0)\n",
    "print(painting_pattren_by_SU)"
   ]
  },
  {
   "cell_type": "code",
   "execution_count": 17,
   "id": "ff5e590a",
   "metadata": {},
   "outputs": [
    {
     "name": "stdout",
     "output_type": "stream",
     "text": [
      "Colour of Painting  Black  Brown    N/A  Red\n",
      "Layer                                       \n",
      "S.U 1                 1.0   21.0  273.0  1.0\n",
      "S.U 10                0.0    2.0   34.0  0.0\n",
      "S.U 11                0.0    3.0    6.0  0.0\n",
      "S.U 12                0.0    4.0   12.0  0.0\n",
      "S.U 13                0.0    0.0    4.0  0.0\n",
      "S.U 14                1.0    3.0   13.0  0.0\n",
      "S.U 15                0.0    1.0   18.0  1.0\n",
      "S.U 16                1.0    1.0    1.0  0.0\n",
      "S.U 17                0.0    6.0   34.0  0.0\n",
      "S.U 18                0.0    1.0   40.0  0.0\n",
      "S.U 19                0.0    0.0    1.0  0.0\n",
      "S.U 2                 3.0   12.0  148.0  0.0\n",
      "S.U 20                0.0    0.0    1.0  0.0\n",
      "S.U 21                0.0    0.0    1.0  0.0\n",
      "S.U 22                5.0    2.0   80.0  1.0\n",
      "S.U 23                0.0    1.0    9.0  0.0\n",
      "S.U 24                0.0    1.0    6.0  0.0\n",
      "S.U 25                0.0    8.0   47.0  0.0\n",
      "S.U 26                0.0    5.0   89.0  0.0\n",
      "S.U 27                0.0    1.0   40.0  0.0\n",
      "S.U 28                0.0    0.0    9.0  0.0\n",
      "S.U 29                0.0    1.0    4.0  1.0\n",
      "S.U 3                 6.0   42.0  194.0  3.0\n",
      "S.U 30                0.0    0.0    1.0  0.0\n",
      "S.U 31                1.0    1.0   17.0  1.0\n",
      "S.U 32                0.0    4.0   45.0  0.0\n",
      "S.U 33                0.0    6.0   28.0  0.0\n",
      "S.U 34                0.0    0.0    8.0  0.0\n",
      "S.U 35                0.0    1.0   10.0  0.0\n",
      "S.U 37                0.0    0.0    2.0  0.0\n",
      "S.U 39                0.0    1.0    6.0  0.0\n",
      "S.U 4                 3.0   58.0  184.0  0.0\n",
      "S.U 40                0.0    0.0    3.0  0.0\n",
      "S.U 41                0.0    0.0    4.0  0.0\n",
      "S.U 45                0.0    1.0    2.0  0.0\n",
      "S.U 48                0.0    2.0    5.0  0.0\n",
      "S.U 5                 0.0    2.0    4.0  0.0\n",
      "S.U 56                0.0    0.0    5.0  0.0\n",
      "S.U 58                0.0    1.0    9.0  0.0\n",
      "S.U 59                0.0    6.0   36.0  0.0\n",
      "S.U 6                 0.0    3.0   37.0  0.0\n",
      "S.U 60                0.0    1.0    2.0  0.0\n",
      "S.U 64                0.0    0.0    1.0  0.0\n",
      "S.U 65                0.0    1.0    3.0  0.0\n",
      "S.U 7                 2.0    1.0   33.0  0.0\n",
      "S.U 8                 0.0    2.0   17.0  0.0\n",
      "S.U 9                 1.0   28.0  167.0  0.0\n"
     ]
    }
   ],
   "source": [
    "# Count the frequency of each 'Colour of Painting' within each S.U\n",
    "colour_of_painting_by_SU = group_by_SU['Colour of Painting'].value_counts().unstack().fillna(0)\n",
    "print(colour_of_painting_by_SU)"
   ]
  },
  {
   "cell_type": "code",
   "execution_count": 18,
   "id": "b60227c8",
   "metadata": {},
   "outputs": [
    {
     "data": {
      "image/png": "[encoded data removed]",
      "text/plain": [
       "<Figure size 864x576 with 1 Axes>"
      ]
     },
     "metadata": {
      "needs_background": "light"
     },
     "output_type": "display_data"
    }
   ],
   "source": [
    "clay_paste_by_SU.plot(kind='bar', stacked=True, figsize=(12, 8))\n",
    "plt.title('Distribution of Clay Paste by Stratum Unit')\n",
    "plt.xlabel('Stratum Unit')\n",
    "plt.ylabel('Proportion')\n",
    "plt.legend(title='Clay Paste')\n",
    "plt.tight_layout()\n",
    "plt.show()"
   ]
  },
  {
   "cell_type": "code",
   "execution_count": 22,
   "id": "429459f8",
   "metadata": {},
   "outputs": [
    {
     "data": {
      "text/plain": [
       "<matplotlib.legend.Legend at 0x1bbd200ed90>"
      ]
     },
     "execution_count": 22,
     "metadata": {},
     "output_type": "execute_result"
    },
    {
     "data": {
      "image/png": "[encoded data removed]",
      "text/plain": [
       "<Figure size 864x576 with 1 Axes>"
      ]
     },
     "metadata": {
      "needs_background": "light"
     },
     "output_type": "display_data"
    }
   ],
   "source": [
    "painting_pattren_by_SU.plot(kind = 'bar', stacked = True,figsize = (12,8))\n",
    "plt.title('Distribution of painting Patrren by stratum unit')\n",
    "plt.xlabel('Stratum Unit')\n",
    "plt.ylabel('Poportion')\n",
    "plt.legend(title = 'Painting Pattren')"
   ]
  },
  {
   "cell_type": "code",
   "execution_count": 23,
   "id": "df4a8c32",
   "metadata": {},
   "outputs": [
    {
     "data": {
      "text/plain": [
       "<matplotlib.legend.Legend at 0x1bbd0d6dd90>"
      ]
     },
     "execution_count": 23,
     "metadata": {},
     "output_type": "execute_result"
    },
    {
     "data": {
      "image/png": "[encoded data removed]",
      "text/plain": [
       "<Figure size 864x576 with 1 Axes>"
      ]
     },
     "metadata": {
      "needs_background": "light"
     },
     "output_type": "display_data"
    }
   ],
   "source": [
    "colour_of_painting_by_SU.plot(kind = 'bar', stacked = True,figsize = (12,8))\n",
    "plt.title('Distribution of Painting Color by stratum unit')\n",
    "plt.xlabel('Stratum Unit')\n",
    "plt.ylabel('Poportion')\n",
    "plt.legend(title = 'Painting Pattren')"
   ]
  },
  {
   "cell_type": "markdown",
   "id": "9681b9af",
   "metadata": {},
   "source": [
    "From the above graphs we can say there is difference in pottery making style in different patrren but most frequently we can see the pottery making by using Buff clay paste with no patrren and no color to it"
   ]
  },
  {
   "cell_type": "markdown",
   "id": "b44059c2",
   "metadata": {},
   "source": [
    "3. **Comparable Sites and Phases for Sherds by SU:**  Can we associate the pottery sherds from each Stratum Unit (SU) with known archaeological sites and their corresponding phases (using information from Comparable Site and Phase/Period columns)? This can provide clues about cultural connections and potential trade routes."
   ]
  },
  {
   "cell_type": "code",
   "execution_count": 26,
   "id": "fb21ccc2",
   "metadata": {},
   "outputs": [
    {
     "name": "stdout",
     "output_type": "stream",
     "text": [
      "     Layer          Comparable Site    Phase/Period  Sherd Count\n",
      "0    S.U 1                   Bampur     Bampur IV2             3\n",
      "1    S.U 1                   Bampur        Bampur V            2\n",
      "2    S.U 1                   Bampur   Bampur: I-IV             1\n",
      "3    S.U 1  Deh Morasi Ghundai (AF)  Morasi Culture            1\n",
      "4    S.U 1           Miri Qalat (P)    Period IIIC             5\n",
      "..     ...                      ...             ...          ...\n",
      "320  S.U 9           Shahr-i Sokhta        Phase: 5            1\n",
      "321  S.U 9           Shahr-i Sokhta       Phase: 5A           21\n",
      "322  S.U 9           Shahr-i Sokhta       Phase: 5B           24\n",
      "323  S.U 9           Shahr-i Sokhta        Phase: 6           34\n",
      "324  S.U 9               Tepe Yahya    Period: IVC2            1\n",
      "\n",
      "[325 rows x 4 columns]\n"
     ]
    }
   ],
   "source": [
    "grouped = df.groupby(['Layer', 'Comparable Site', 'Phase/Period']).size().reset_index(name='Sherd Count')\n",
    "print(grouped)"
   ]
  },
  {
   "cell_type": "code",
   "execution_count": 29,
   "id": "ff508c0e",
   "metadata": {},
   "outputs": [
    {
     "data": {
      "image/png": "[encoded data removed]",
      "text/plain": [
       "<Figure size 720x432 with 1 Axes>"
      ]
     },
     "metadata": {
      "needs_background": "light"
     },
     "output_type": "display_data"
    }
   ],
   "source": [
    "import matplotlib.pyplot as plt\n",
    "import seaborn as sns\n",
    "\n",
    "# Create a bar plot\n",
    "plt.figure(figsize=(10, 6))\n",
    "sns.barplot(data=grouped, x='Layer', y='Sherd Count', hue='Comparable Site')\n",
    "plt.title('Sherd Count by Stratum Unit and Comparable Site')\n",
    "plt.xlabel('Stratum Unit (Layer)')\n",
    "plt.ylabel('Sherd Count')\n",
    "plt.legend(title='Comparable Site')\n",
    "plt.show()\n"
   ]
  },
  {
   "cell_type": "code",
   "execution_count": 31,
   "id": "be48b0aa",
   "metadata": {},
   "outputs": [
    {
     "data": {
      "image/png": "[encoded data removed]",
      "text/plain": [
       "<Figure size 720x432 with 1 Axes>"
      ]
     },
     "metadata": {
      "needs_background": "light"
     },
     "output_type": "display_data"
    }
   ],
   "source": [
    "# Create an improved bar plot\n",
    "plt.figure(figsize=(10, 6))\n",
    "sns.barplot(data=grouped, x='Layer', y='Sherd Count', hue='Comparable Site', palette='Set3')\n",
    "plt.title('Sherd Count by Stratum Unit and Comparable Site')\n",
    "plt.xlabel('Stratum Unit (Layer)')\n",
    "plt.ylabel('Sherd Count')\n",
    "plt.legend(title='Comparable Site', loc='upper left', bbox_to_anchor=(1, 1))\n",
    "plt.xticks(rotation=45, ha='right')\n",
    "plt.tight_layout()  # Adjust plot spacing\n",
    "plt.show()\n"
   ]
  },
  {
   "cell_type": "code",
   "execution_count": null,
   "id": "6d514afd",
   "metadata": {},
   "outputs": [],
   "source": []
  }
 ],
 "metadata": {
  "kernelspec": {
   "display_name": "Python 3 (ipykernel)",
   "language": "python",
   "name": "python3"
  },
  "language_info": {
   "codemirror_mode": {
    "name": "ipython",
    "version": 3
   },
   "file_extension": ".py",
   "mimetype": "text/x-python",
   "name": "python",
   "nbconvert_exporter": "python",
   "pygments_lexer": "ipython3",
   "version": "3.9.12"
  }
 },
 "nbformat": 4,
 "nbformat_minor": 5
}
